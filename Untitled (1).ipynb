{
 "cells": [
  {
   "cell_type": "markdown",
   "id": "1d674cf8-0509-4085-8703-478008496e63",
   "metadata": {},
   "source": [
    "Ques:- Explain with an example each when to use a for loop and a while loop.\n",
    "Ams:- A for loop is used when you know how many times you want to execute a certain block of code. The loop will iterate through a sequence of values, such as a list or a range, executing the code once for each value in the sequence.\n",
    "Here's an example of a for loop that prints the numbers from 0 to 9:\n",
    "for i in range(10):\n",
    "    print(i)\n",
    "A while loop, on the other hand, is used when you want to execute a block of code repeatedly as long as a certain condition is true. The loop will continue to execute until the condition becomes false.\n",
    "\n",
    "Here's an example of a while loop that counts down from 10 to 1:\n",
    "count = 10\n",
    "while count > 0:\n",
    "    print(count)\n",
    "    count -= 1\n",
    "\n"
   ]
  },
  {
   "cell_type": "code",
   "execution_count": 12,
   "id": "25ab270b-bae4-4e02-b723-0423094e4beb",
   "metadata": {},
   "outputs": [
    {
     "name": "stdout",
     "output_type": "stream",
     "text": [
      "the sum of first 10 natural no is 55\n",
      "the product of first 10 natural no is 3628800\n"
     ]
    }
   ],
   "source": [
    "Ques:-Write a python program to print the sum and product of the first 10 natural numbers using for\n",
    "and while loop.\n",
    "Ans:-\n",
    "#using for loop \n",
    "l=list(range(1,11))\n",
    "sum=0\n",
    "prod=1\n",
    "for j in l:\n",
    "    sum=sum+j\n",
    "    prod=prod*j\n",
    "print(\"the sum of first 10 natural no is\",sum)\n",
    "print(\"the product of first 10 natural no is\",prod)\n"
   ]
  },
  {
   "cell_type": "code",
   "execution_count": 13,
   "id": "86150461-36f0-47e8-87f7-4fe8b801ccbb",
   "metadata": {},
   "outputs": [
    {
     "name": "stdout",
     "output_type": "stream",
     "text": [
      "Sum of the first 10 natural numbers is: 55\n",
      "Product of the first 10 natural numbers is: 3628800\n"
     ]
    }
   ],
   "source": [
    "#using while loop \n",
    "n = 10\n",
    "i = 1\n",
    "sum = 0\n",
    "prod = 1\n",
    "\n",
    "while i <= n:\n",
    "    sum += i\n",
    "    prod *= i\n",
    "    i += 1\n",
    "\n",
    "print(\"Sum of the first\", n, \"natural numbers is:\", sum)\n",
    "print(\"Product of the first\", n, \"natural numbers is:\", prod)\n",
    "\n",
    "    "
   ]
  },
  {
   "cell_type": "code",
   "execution_count": 17,
   "id": "c221059a-abbd-427a-b468-3dba83dd4d07",
   "metadata": {},
   "outputs": [
    {
     "name": "stdin",
     "output_type": "stream",
     "text": [
      "Enter the units consumed:  310\n"
     ]
    },
    {
     "name": "stdout",
     "output_type": "stream",
     "text": [
      "Electricity bill: Rs. 2250.0\n"
     ]
    }
   ],
   "source": [
    "Ques:-Create a python program to compute the electricity bill for a household.\n",
    "The per-unit charges in rupees are as follows: For the first 100 units, the user will be charged Rs. 4.5 per\n",
    "unit, for the next 100 units, the user will be charged Rs. 6 per unit, and for the next 100 units, the user will\n",
    "be charged Rs. 10 per unit, After 300 units and above the user will be charged Rs. 20 per unit.\n",
    "You are required to take the units of electricity consumed in a month from the user as input.\n",
    "units_consumed = int(input(\"Enter the units consumed: \"))\n",
    "\n",
    "if units_consumed <= 100:\n",
    "    bill_amount = units_consumed * 4.5\n",
    "elif units_consumed <= 200:\n",
    "    bill_amount = 100 * 4.5 + (units_consumed - 100) * 6\n",
    "elif units_consumed <= 300:\n",
    "    bill_amount = 100 * 4.5 + 100 * 6 + (units_consumed - 200) * 10\n",
    "else:\n",
    "    bill_amount = 100 * 4.5 + 100 * 6 + 100 * 10 + (units_consumed - 300) * 20\n",
    "\n",
    "print(\"Electricity bill: Rs.\", bill_amount)\n"
   ]
  },
  {
   "cell_type": "code",
   "execution_count": 18,
   "id": "4798a73d-434a-4adc-ab2d-8f63d758d1a9",
   "metadata": {},
   "outputs": [
    {
     "name": "stdout",
     "output_type": "stream",
     "text": [
      "Numbers whose cubes are divisible by 4 or 5 (using for loop):  [2, 4, 5, 6, 8, 10, 12, 14, 15, 16, 18, 20, 22, 24, 25, 26, 28, 30, 32, 34, 35, 36, 38, 40, 42, 44, 45, 46, 48, 50, 52, 54, 55, 56, 58, 60, 62, 64, 65, 66, 68, 70, 72, 74, 75, 76, 78, 80, 82, 84, 85, 86, 88, 90, 92, 94, 95, 96, 98, 100]\n",
      "Numbers whose cubes are divisible by 4 or 5 (using while loop):  [2, 4, 5, 6, 8, 10, 12, 14, 15, 16, 18, 20, 22, 24, 25, 26, 28, 30, 32, 34, 35, 36, 38, 40, 42, 44, 45, 46, 48, 50, 52, 54, 55, 56, 58, 60, 62, 64, 65, 66, 68, 70, 72, 74, 75, 76, 78, 80, 82, 84, 85, 86, 88, 90, 92, 94, 95, 96, 98, 100]\n"
     ]
    }
   ],
   "source": [
    "Ques:- Create a list of numbers from 1 to 100. Use for loop and while loop to calculate the cube of each\n",
    "number and if the cube of that number is divisible by 4 or 5 then append that number in a list and print\n",
    "that list.\n",
    "# Using for loop\n",
    "cubes_list = []\n",
    "for num in range(1, 101):\n",
    "    cube = num ** 3\n",
    "    if cube % 4 == 0 or cube % 5 == 0:\n",
    "        cubes_list.append(num)\n",
    "\n",
    "print(\"Numbers whose cubes are divisible by 4 or 5 (using for loop): \", cubes_list)\n",
    "\n",
    "# Using while loop\n",
    "cubes_list = []\n",
    "num = 1\n",
    "while num <= 100:\n",
    "    cube = num ** 3\n",
    "    if cube % 4 == 0 or cube % 5 == 0:\n",
    "        cubes_list.append(num)\n",
    "    num += 1\n",
    "\n",
    "print(\"Numbers whose cubes are divisible by 4 or 5 (using while loop): \", cubes_list)\n"
   ]
  },
  {
   "cell_type": "code",
   "execution_count": 50,
   "id": "8a5216fd-0888-4415-8c8f-e11bdca980e4",
   "metadata": {},
   "outputs": [
    {
     "name": "stdout",
     "output_type": "stream",
     "text": [
      "['I', 'a', 'o', 'e', 'o', 'e', 'a', 'a', 'a', 'i', 'e', 'i']\n"
     ]
    }
   ],
   "source": [
    "s = \"I want to become a data scientist\"\n",
    "l=[]\n",
    "for num in s:\n",
    "    if  num == 'a' or num == 'e' or num == 'i' or num == 'o' or num == 'u' or num == 'A' or num == 'E' or num == 'I' or num == 'O' or num == 'U':\n",
    "        l.append(num)\n",
    "\n",
    "print(l)"
   ]
  },
  {
   "cell_type": "code",
   "execution_count": null,
   "id": "269f9106-b741-45ff-b9b4-0571f3f2bc04",
   "metadata": {},
   "outputs": [],
   "source": []
  },
  {
   "cell_type": "code",
   "execution_count": null,
   "id": "431d92de-7932-4095-8ec8-783e8ba988d1",
   "metadata": {},
   "outputs": [],
   "source": []
  }
 ],
 "metadata": {
  "kernelspec": {
   "display_name": "Python 3 (ipykernel)",
   "language": "python",
   "name": "python3"
  },
  "language_info": {
   "codemirror_mode": {
    "name": "ipython",
    "version": 3
   },
   "file_extension": ".py",
   "mimetype": "text/x-python",
   "name": "python",
   "nbconvert_exporter": "python",
   "pygments_lexer": "ipython3",
   "version": "3.10.6"
  }
 },
 "nbformat": 4,
 "nbformat_minor": 5
}
